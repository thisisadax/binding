{
 "cells": [
  {
   "cell_type": "code",
   "execution_count": 41,
   "metadata": {},
   "outputs": [],
   "source": [
    "import os\n",
    "import json\n",
    "from glob import glob\n",
    "import re\n",
    "\n",
    "import numpy as np\n",
    "import pandas as pd"
   ]
  },
  {
   "cell_type": "code",
   "execution_count": 84,
   "metadata": {},
   "outputs": [],
   "source": [
    "# read the json\n",
    "basepath = '/Users/ic0523/Documents/projects/misc/vlm-binding'\n",
    "json_paths = sorted(glob(os.path.join(basepath, 'data', 'clevr', 'scenes', '*.json')))\n",
    "img_paths = sorted(glob(os.path.join(basepath, 'data', 'clevr', 'images', '*.png')))\n",
    "img_ids = [re.split(r'_|\\.', path)[2] for path in img_paths]\n",
    "json_paths = [path for path in json_paths if re.split(r'_|\\.', path)[2] in img_ids] # filter out json files that do not have corresponding images\n",
    "\n",
    "# Load in the task relevant metadata for the CLEVR dataset\n",
    "results = pd.DataFrame(np.zeros((len(json_paths), 5)), columns=['path', 'n_objects', 'properties', 'response', 'answer'], dtype=object)\n",
    "for i, json_path in enumerate(json_paths):\n",
    "    with open(json_path, 'r') as f:\n",
    "        scene = json.load(f)\n",
    "        results.loc[i, 'path'] = os.path.join('data', 'clevr', 'images', scene['image_filename'])\n",
    "        results.loc[i, 'n_objects'] = len(scene['objects'])\n",
    "        results.loc[i, 'properties'] = [{'shape': object['shape'], 'color': object['color']} for object in scene['objects']]"
   ]
  },
  {
   "cell_type": "code",
   "execution_count": 85,
   "metadata": {},
   "outputs": [],
   "source": [
    "test = results[results['n_objects'] == 6].sample(20)\n",
    "test.to_csv(os.path.join(basepath, 'output', 'counting_results.csv'), index=False)"
   ]
  },
  {
   "cell_type": "code",
   "execution_count": 86,
   "metadata": {},
   "outputs": [
    {
     "data": {
      "text/plain": [
       "0.8"
      ]
     },
     "execution_count": 86,
     "metadata": {},
     "output_type": "execute_result"
    }
   ],
   "source": [
    "test = pd.read_csv(os.path.join(basepath, 'output', 'counting_results.csv'))\n",
    "(test.answer == test.n_objects).mean()                  "
   ]
  },
  {
   "cell_type": "code",
   "execution_count": 212,
   "metadata": {},
   "outputs": [
    {
     "ename": "TypeError",
     "evalue": "object of type 'int' has no len()",
     "output_type": "error",
     "traceback": [
      "\u001b[0;31m---------------------------------------------------------------------------\u001b[0m",
      "\u001b[0;31mTypeError\u001b[0m                                 Traceback (most recent call last)",
      "Cell \u001b[0;32mIn[212], line 1\u001b[0m\n\u001b[0;32m----> 1\u001b[0m \u001b[38;5;28;43mlen\u001b[39;49m\u001b[43m(\u001b[49m\u001b[38;5;241;43m1\u001b[39;49m\u001b[43m)\u001b[49m\n",
      "\u001b[0;31mTypeError\u001b[0m: object of type 'int' has no len()"
     ]
    }
   ],
   "source": [
    "len(1)"
   ]
  },
  {
   "cell_type": "code",
   "execution_count": 216,
   "metadata": {},
   "outputs": [
    {
     "data": {
      "text/plain": [
       "0.27930986863260276"
      ]
     },
     "execution_count": 216,
     "metadata": {},
     "output_type": "execute_result"
    }
   ],
   "source": []
  },
  {
   "cell_type": "code",
   "execution_count": 101,
   "metadata": {},
   "outputs": [
    {
     "data": {
      "image/png": "[encoded data removed]",
      "text/plain": [
       "<Figure size 640x480 with 1 Axes>"
      ]
     },
     "metadata": {},
     "output_type": "display_data"
    }
   ],
   "source": [
    "import numpy as np\n",
    "import matplotlib.pyplot as plt\n",
    "import matplotlib.colors as mcolors\n",
    "\n",
    "\n",
    "def generate_isoluminant_colors(num_colors, saturation=1.0, lightness=1.0, mu=0.5, sigma=0.1, uniform=False):\n",
    "    if uniform:\n",
    "        hues = np.linspace(0, 1, num_colors, endpoint=False)\n",
    "    else:\n",
    "        hues = np.random.normal(loc=mu, scale=sigma, size=num_colors) % 1.0\n",
    "    hsl_colors = [(hue, saturation, lightness) for hue in hues]\n",
    "    rgb_colors = [mcolors.hsv_to_rgb(color) for color in hsl_colors]\n",
    "    return rgb_colors\n",
    "\n",
    "num_colors = 50\n",
    "colors = generate_isoluminant_colors(num_colors, uniform=True)\n",
    "\n",
    "fig, ax = plt.subplots()\n",
    "for i, color in enumerate(colors):\n",
    "    ax.add_patch(plt.Rectangle((i, 0), 1, 1, color=color))\n",
    "ax.set_xlim(0, num_colors)\n",
    "ax.set_ylim(0, 1)\n",
    "plt.show()"
   ]
  },
  {
   "cell_type": "code",
   "execution_count": 105,
   "metadata": {},
   "outputs": [
    {
     "data": {
      "text/plain": [
       "0.9999999999999994"
      ]
     },
     "execution_count": 105,
     "metadata": {},
     "output_type": "execute_result"
    }
   ],
   "source": [
    "alphas.sum()"
   ]
  },
  {
   "cell_type": "code",
   "execution_count": 209,
   "metadata": {},
   "outputs": [
    {
     "data": {
      "text/plain": [
       "array([ 0,  7, 10, 10, 18, 18, 10, 18, 18,  8])"
      ]
     },
     "execution_count": 209,
     "metadata": {},
     "output_type": "execute_result"
    }
   ],
   "source": [
    "import numpy as np\n",
    "import matplotlib.pyplot as plt\n",
    "\n",
    "n_shapes = 20\n",
    "n_samples = 10\n",
    "w = 5\n",
    "alphas = np.random.dirichlet([w/n_shapes]*n_shapes, size=1)[0] \n",
    "test = np.random.choice(np.arange(n_shapes), size=n_samples, p=alphas)\n",
    "test"
   ]
  },
  {
   "cell_type": "code",
   "execution_count": 169,
   "metadata": {},
   "outputs": [
    {
     "data": {
      "text/plain": [
       "0.005"
      ]
     },
     "execution_count": 169,
     "metadata": {},
     "output_type": "execute_result"
    }
   ],
   "source": [
    "n_shapes"
   ]
  },
  {
   "cell_type": "code",
   "execution_count": null,
   "metadata": {},
   "outputs": [],
   "source": []
  }
 ],
 "metadata": {
  "kernelspec": {
   "display_name": "code",
   "language": "python",
   "name": "python3"
  },
  "language_info": {
   "codemirror_mode": {
    "name": "ipython",
    "version": 3
   },
   "file_extension": ".py",
   "mimetype": "text/x-python",
   "name": "python",
   "nbconvert_exporter": "python",
   "pygments_lexer": "ipython3",
   "version": "3.10.13"
  }
 },
 "nbformat": 4,
 "nbformat_minor": 2
}
