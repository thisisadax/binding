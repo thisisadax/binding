{
 "cells": [
  {
   "cell_type": "code",
   "execution_count": 41,
   "metadata": {},
   "outputs": [],
   "source": [
    "import os\n",
    "import json\n",
    "from glob import glob\n",
    "import re\n",
    "\n",
    "import numpy as np\n",
    "import pandas as pd"
   ]
  },
  {
   "cell_type": "code",
   "execution_count": 84,
   "metadata": {},
   "outputs": [],
   "source": [
    "# read the json\n",
    "basepath = '/Users/ic0523/Documents/projects/misc/vlm-binding'\n",
    "json_paths = sorted(glob(os.path.join(basepath, 'data', 'clevr', 'scenes', '*.json')))\n",
    "img_paths = sorted(glob(os.path.join(basepath, 'data', 'clevr', 'images', '*.png')))\n",
    "img_ids = [re.split(r'_|\\.', path)[2] for path in img_paths]\n",
    "json_paths = [path for path in json_paths if re.split(r'_|\\.', path)[2] in img_ids] # filter out json files that do not have corresponding images\n",
    "\n",
    "# Load in the task relevant metadata for the CLEVR dataset\n",
    "results = pd.DataFrame(np.zeros((len(json_paths), 5)), columns=['path', 'n_objects', 'properties', 'response', 'answer'], dtype=object)\n",
    "for i, json_path in enumerate(json_paths):\n",
    "    with open(json_path, 'r') as f:\n",
    "        scene = json.load(f)\n",
    "        results.loc[i, 'path'] = os.path.join('data', 'clevr', 'images', scene['image_filename'])\n",
    "        results.loc[i, 'n_objects'] = len(scene['objects'])\n",
    "        results.loc[i, 'properties'] = [{'shape': object['shape'], 'color': object['color']} for object in scene['objects']]"
   ]
  },
  {
   "cell_type": "code",
   "execution_count": 85,
   "metadata": {},
   "outputs": [],
   "source": [
    "test = results[results['n_objects'] == 6].sample(20)\n",
    "test.to_csv(os.path.join(basepath, 'output', 'counting_results.csv'), index=False)"
   ]
  },
  {
   "cell_type": "code",
   "execution_count": 86,
   "metadata": {},
   "outputs": [
    {
     "data": {
      "text/plain": [
       "0.8"
      ]
     },
     "execution_count": 86,
     "metadata": {},
     "output_type": "execute_result"
    }
   ],
   "source": [
    "test = pd.read_csv(os.path.join(basepath, 'output', 'counting_results.csv'))\n",
    "(test.answer == test.n_objects).mean()                  "
   ]
  },
  {
   "cell_type": "code",
   "execution_count": null,
   "metadata": {},
   "outputs": [],
   "source": []
  }
 ],
 "metadata": {
  "kernelspec": {
   "display_name": "code",
   "language": "python",
   "name": "python3"
  },
  "language_info": {
   "codemirror_mode": {
    "name": "ipython",
    "version": 3
   },
   "file_extension": ".py",
   "mimetype": "text/x-python",
   "name": "python",
   "nbconvert_exporter": "python",
   "pygments_lexer": "ipython3",
   "version": "3.10.13"
  }
 },
 "nbformat": 4,
 "nbformat_minor": 2
}
